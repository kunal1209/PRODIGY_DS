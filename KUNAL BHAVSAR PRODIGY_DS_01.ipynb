{
  "cells": [
    {
      "cell_type": "markdown",
      "metadata": {
        "id": "view-in-github",
        "colab_type": "text"
      },
      "source": [
        "<a href=\"https://colab.research.google.com/github/hibabtl/PRODIGY-DS/blob/main/PRODIGY_DS_01.ipynb\" target=\"_parent\"><img src=\"https://colab.research.google.com/assets/colab-badge.svg\" alt=\"Open In Colab\"/></a>"
      ]
    },
    {
      "cell_type": "markdown",
      "source": [
        "**CREATE A HISTOGRAM TO VISUALIZE DISTRIBUTION OF AGES OR GENDERS.**"
      ],
      "metadata": {
        "id": "7JnqQ6OM_7q0"
      }
    },
    {
      "cell_type": "code",
      "execution_count": 6,
      "metadata": {
        "id": "jSeZAHmmNXIQ"
      },
      "outputs": [],
      "source": [
        "#importing necessary libraries\n",
        "import matplotlib.pyplot as plt\n",
        "import pandas as pd"
      ]
    },
    {
      "cell_type": "code",
      "execution_count": 7,
      "metadata": {
        "id": "Uop6oIeGNvbu"
      },
      "outputs": [],
      "source": [
        "#load dataset\n",
        "data=pd.read_csv('/content/state_pop_by_age_gender.csv')"
      ]
    },
    {
      "cell_type": "code",
      "source": [
        "data.head"
      ],
      "metadata": {
        "colab": {
          "base_uri": "https://localhost:8080/"
        },
        "id": "kUu4I0yq5KBa",
        "outputId": "33882314-fc8d-45b8-a816-bdfe53d8bfc6"
      },
      "execution_count": 8,
      "outputs": [
        {
          "output_type": "execute_result",
          "data": {
            "text/plain": [
              "<bound method NDFrame.head of        state state_abbr gender_group age_group  population\n",
              "0    Alabama         AL       Female       <18      536918\n",
              "1    Alabama         AL       Female       18+     1979977\n",
              "2    Alabama         AL       Female       All     2516895\n",
              "3    Alabama         AL         Male       <18      559458\n",
              "4    Alabama         AL         Male       18+     1799897\n",
              "..       ...        ...          ...       ...         ...\n",
              "472  Wyoming         WY         Male       18+      225899\n",
              "473  Wyoming         WY         Male       All      296202\n",
              "474  Wyoming         WY         Both       <18      136371\n",
              "475  Wyoming         WY         Both       18+      444653\n",
              "476  Wyoming         WY         Both       All      581024\n",
              "\n",
              "[477 rows x 5 columns]>"
            ]
          },
          "metadata": {},
          "execution_count": 8
        }
      ]
    },
    {
      "cell_type": "code",
      "source": [
        "# Filter out the \"All\" category\n",
        "filtered_data = data[data['age_group'].isin(['<18', '18+'])]\n",
        "\n",
        "# Group data by age group and count occurrences\n",
        "age_group_counts = filtered_data['age_group'].value_counts()\n",
        "\n",
        "# Create the histogram\n",
        "plt.figure(figsize=(8,4))\n",
        "plt.bar(age_group_counts.index, age_group_counts.values, color='lightpink')\n",
        "plt.xlabel('Age Group')\n",
        "plt.ylabel('Count')\n",
        "plt.title('Age Group Distribution')\n",
        "\n",
        "plt.show()"
      ],
      "metadata": {
        "colab": {
          "base_uri": "https://localhost:8080/",
          "height": 410
        },
        "id": "9Dk-UoJU5NZQ",
        "outputId": "33cbdebe-67b9-4579-f370-89ddfab50f62"
      },
      "execution_count": 31,
      "outputs": [
        {
          "output_type": "display_data",
          "data": {
            "text/plain": [
              "<Figure size 800x400 with 1 Axes>"
            ],
            "image/png": "[encoded data removed]"
          },
          "metadata": {}
        }
      ]
    },
    {
      "cell_type": "code",
      "source": [
        "\n"
      ],
      "metadata": {
        "id": "EjynlkPA6gzG"
      },
      "execution_count": null,
      "outputs": []
    }
  ],
  "metadata": {
    "colab": {
      "provenance": [],
      "authorship_tag": "ABX9TyNNbY5FAD8mA43lEmEAbNp2",
      "include_colab_link": true
    },
    "kernelspec": {
      "display_name": "Python 3",
      "name": "python3"
    },
    "language_info": {
      "name": "python"
    }
  },
  "nbformat": 4,
  "nbformat_minor": 0
}